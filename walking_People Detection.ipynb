{
 "cells": [
  {
   "cell_type": "markdown",
   "id": "281f449b-2c83-4ece-8956-6d543acd211b",
   "metadata": {},
   "source": [
    "# Walking People image Detection "
   ]
  },
  {
   "cell_type": "code",
   "execution_count": 4,
   "id": "50adee4a-997b-4572-962f-8012f10e9c7a",
   "metadata": {},
   "outputs": [],
   "source": [
    "\n",
    "\n",
    "\n",
    "\n",
    "import cv2\n",
    "import imutils\n",
    "  \n",
    "# Initializing the HOG person\n",
    "# detector\n",
    "hog = cv2.HOGDescriptor()\n",
    "hog.setSVMDetector(cv2.HOGDescriptor_getDefaultPeopleDetector())\n",
    "  \n",
    "# Reading the Image\n",
    "image = cv2.imread(r\"C:\\Users\\91708\\Downloads\\humanwalking.jpg\")\n",
    "  \n",
    "# Resizing the Image\n",
    "image = imutils.resize(image,\n",
    "                       width=min(400, image.shape[1]))\n",
    "  \n",
    "# Detecting all the regions in the \n",
    "# Image that has a pedestrians inside it\n",
    "(regions, _) = hog.detectMultiScale(image, \n",
    "                                    winStride=(4, 4),\n",
    "                                    padding=(4, 4),\n",
    "                                    scale=1.05)\n",
    "  \n",
    "# Drawing the regions in the Image\n",
    "for (x, y, w, h) in regions:\n",
    "    cv2.rectangle(image, (x, y), \n",
    "                  (x + w, y + h), \n",
    "                  (0, 0, 255), 2)\n",
    " \n",
    "# Showing the output Image\n",
    "cv2.imshow(\"Image\", image)\n",
    "cv2.waitKey(0)\n",
    "  \n",
    "cv2.destroyAllWindows()"
   ]
  },
  {
   "cell_type": "code",
   "execution_count": null,
   "id": "3aafbd43-96a6-49b9-9af8-da6e34937525",
   "metadata": {},
   "outputs": [],
   "source": []
  },
  {
   "cell_type": "code",
   "execution_count": 1,
   "id": "5be820c0-ccaf-4175-b627-1305d5e665c9",
   "metadata": {},
   "outputs": [
    {
     "ename": "NameError",
     "evalue": "name 'face' is not defined",
     "output_type": "error",
     "traceback": [
      "\u001b[1;31m---------------------------------------------------------------------------\u001b[0m",
      "\u001b[1;31mNameError\u001b[0m                                 Traceback (most recent call last)",
      "Cell \u001b[1;32mIn[1], line 15\u001b[0m\n\u001b[0;32m     13\u001b[0m gray\u001b[38;5;241m=\u001b[39mcv2\u001b[38;5;241m.\u001b[39mcvtColor(img,cv2\u001b[38;5;241m.\u001b[39mCOLOR_BGR2GRAY)\n\u001b[0;32m     14\u001b[0m \u001b[38;5;66;03m# detect the face\u001b[39;00m\n\u001b[1;32m---> 15\u001b[0m faces\u001b[38;5;241m=\u001b[39mface\u001b[38;5;241m.\u001b[39mdetectMultiScale(gray,\u001b[38;5;241m1.1\u001b[39m,\u001b[38;5;241m4\u001b[39m)\n\u001b[0;32m     17\u001b[0m \u001b[38;5;66;03m# draw the rectangle around each face\u001b[39;00m\n\u001b[0;32m     18\u001b[0m \u001b[38;5;28;01mfor\u001b[39;00m(x,y,w,h) \u001b[38;5;129;01min\u001b[39;00m faces:\n",
      "\u001b[1;31mNameError\u001b[0m: name 'face' is not defined"
     ]
    }
   ],
   "source": [
    "# import cv2\n",
    "\n",
    "\n",
    "# # to capture video\n",
    "# cap=cv2.VideoCapture(r\"C:\\Users\\91708\\Downloads\\humanwalking.jpg\")\n",
    "# hog = cv2.HOGDescriptor()\n",
    "# hog.setSVMDetector(cv2.HOGDescriptor_getDefaultPeopleDetector())\n",
    "\n",
    "\n",
    "# while True:\n",
    "#     ret,img=cap.read()\n",
    "#     # convert to grayscale\n",
    "#     gray=cv2.cvtColor(img,cv2.COLOR_BGR2GRAY)\n",
    "#     # detect the face\n",
    "#     faces=face.detectMultiScale(gray,1.1,4)\n",
    "\n",
    "#     # draw the rectangle around each face\n",
    "#     for(x,y,w,h) in faces:\n",
    "#         cv2.rectangle(img,(x,y),(x+w, y+h),(255,0,0), 2)\n",
    "#         roi_gray=gray[y:y+h,x:x+w]\n",
    "#         roi_color=img[y:y+h,x:x+w]\n",
    "#         # eye detect\n",
    "#         eyes=eye.detectMultiScale(roi_gray)\n",
    "#         for (ex,ey,ew,eh) in eyes:\n",
    "#             cv2.rectangle(roi_color,(ex,ey),(ex+ew,ey+eh),(0,255,0),2)\n",
    "#     # display\n",
    "#     cv2.imshow('img',img)\n",
    "#     # stop if escape key is prossed\n",
    "#     if cv2.waitKey(1) & 0xFF == ord('q'):\n",
    "        \n",
    "#         break\n",
    "\n",
    "\n",
    "\n",
    "\n",
    "\n",
    "\n",
    "# cap.release()\n",
    "# cv2.destroyAllWindows()\n",
    "    \n",
    "\n",
    "        "
   ]
  },
  {
   "cell_type": "code",
   "execution_count": null,
   "id": "225450a3-3ae5-4d96-adcd-d9035c08a54d",
   "metadata": {},
   "outputs": [],
   "source": []
  },
  {
   "cell_type": "code",
   "execution_count": 23,
   "id": "1e5627a1-4f06-4b2e-9431-161669df90a5",
   "metadata": {},
   "outputs": [
    {
     "ename": "error",
     "evalue": "OpenCV(4.11.0) D:\\a\\opencv-python\\opencv-python\\opencv\\modules\\imgproc\\src\\resize.cpp:4208: error: (-215:Assertion failed) !ssize.empty() in function 'cv::resize'\n",
     "output_type": "error",
     "traceback": [
      "\u001b[1;31m---------------------------------------------------------------------------\u001b[0m",
      "\u001b[1;31merror\u001b[0m                                     Traceback (most recent call last)",
      "Cell \u001b[1;32mIn[23], line 26\u001b[0m\n\u001b[0;32m     23\u001b[0m ret, frame \u001b[38;5;241m=\u001b[39m cap\u001b[38;5;241m.\u001b[39mread()\n\u001b[0;32m     25\u001b[0m \u001b[38;5;66;03m# resizing for faster detection\u001b[39;00m\n\u001b[1;32m---> 26\u001b[0m frame \u001b[38;5;241m=\u001b[39m cv2\u001b[38;5;241m.\u001b[39mresize(frame, (\u001b[38;5;241m640\u001b[39m, \u001b[38;5;241m480\u001b[39m))\n\u001b[0;32m     27\u001b[0m \u001b[38;5;66;03m# using a greyscale picture, also for faster detection\u001b[39;00m\n\u001b[0;32m     28\u001b[0m gray \u001b[38;5;241m=\u001b[39m cv2\u001b[38;5;241m.\u001b[39mcvtColor(frame, cv2\u001b[38;5;241m.\u001b[39mCOLOR_RGB2GRAY)\n",
      "\u001b[1;31merror\u001b[0m: OpenCV(4.11.0) D:\\a\\opencv-python\\opencv-python\\opencv\\modules\\imgproc\\src\\resize.cpp:4208: error: (-215:Assertion failed) !ssize.empty() in function 'cv::resize'\n"
     ]
    }
   ],
   "source": [
    "# import the necessary packages\n",
    "import numpy as np\n",
    "import cv2\n",
    " \n",
    "# initialize the HOG descriptor/person detector\n",
    "hog = cv2.HOGDescriptor()\n",
    "hog.setSVMDetector(cv2.HOGDescriptor_getDefaultPeopleDetector())\n",
    "\n",
    "cv2.startWindowThread()\n",
    "\n",
    "# open webcam video stream\n",
    "cap = cv2.VideoCapture(r\"C:\\Users\\91708\\Downloads\\walking.mp4\")\n",
    "\n",
    "# the output will be written to output.avi\n",
    "out = cv2.VideoWriter(\n",
    "    'output.avi',\n",
    "    cv2.VideoWriter_fourcc(*'MJPG'),\n",
    "    15.,\n",
    "    (640,480))\n",
    "\n",
    "while(True):\n",
    "    # Capture frame-by-frame\n",
    "    ret, frame = cap.read()\n",
    "\n",
    "    # resizing for faster detection\n",
    "    frame = cv2.resize(frame, (640, 480))\n",
    "    # using a greyscale picture, also for faster detection\n",
    "    gray = cv2.cvtColor(frame, cv2.COLOR_RGB2GRAY)\n",
    "\n",
    "   \n",
    "    boxes, weights = hog.detectMultiScale(frame, winStride=(8,8) )\n",
    "\n",
    "    boxes = np.array([[x, y, x + w, y + h] for (x, y, w, h) in boxes])\n",
    "\n",
    "    for (xA, yA, xB, yB) in boxes:\n",
    "        cv2.rectangle(frame, (xA, yA), (xB, yB),\n",
    "                          (0, 255, 0), 2)\n",
    "    \n",
    "    # Write the output video \n",
    "    out.write(frame.astype('uint8'))\n",
    "    # Display the resulting frame\n",
    "    cv2.imshow('frame',frame)\n",
    "    if cv2.waitKey(1) & 0xFF == ord('q'):\n",
    "        break\n",
    "\n",
    "# When everything done, release the capture\n",
    "cap.release()\n",
    "out.release()\n",
    "# finally, close the window\n",
    "cv2.destroyAllWindows()\n",
    "cv2.waitKey(1)"
   ]
  },
  {
   "cell_type": "code",
   "execution_count": null,
   "id": "ecbc7cfa-98be-40c8-94e8-9c85f9217772",
   "metadata": {},
   "outputs": [],
   "source": []
  }
 ],
 "metadata": {
  "kernelspec": {
   "display_name": "Python [conda env:base] *",
   "language": "python",
   "name": "conda-base-py"
  },
  "language_info": {
   "codemirror_mode": {
    "name": "ipython",
    "version": 3
   },
   "file_extension": ".py",
   "mimetype": "text/x-python",
   "name": "python",
   "nbconvert_exporter": "python",
   "pygments_lexer": "ipython3",
   "version": "3.12.7"
  }
 },
 "nbformat": 4,
 "nbformat_minor": 5
}
